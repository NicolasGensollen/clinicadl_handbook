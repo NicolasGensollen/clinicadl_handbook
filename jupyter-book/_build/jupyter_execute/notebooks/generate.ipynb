{
 "cells": [
  {
   "cell_type": "code",
   "execution_count": null,
   "id": "8e4e89b5",
   "metadata": {
    "lines_to_next_cell": 0
   },
   "outputs": [],
   "source": [
    "# Uncomment this cell if running in Google Colab\n",
    "!pip install clinicadl==0.2.1\n",
    "!curl -k https://aramislab.paris.inria.fr/files/data/databases/tuto/dataOasis.tar.gz -o dataOasis.tar.gz\n",
    "!tar xf dataOasis.tar.gz"
   ]
  },
  {
   "cell_type": "markdown",
   "id": "0d6ee550",
   "metadata": {},
   "source": [
    "# Debug architecture search\n",
    "Previous sections were focusing on pre-built architectures available in\n",
    "ClinicaDL. These architectures were trained and validated on ADNI, and gave\n",
    "similar test results on ADNI, AIBL and OASIS. However, they might not be\n",
    "transferrable to other problems on other datasets using other modalities, and\n",
    "this is why may want to search for new architectures and hyperparameters.\n",
    "\n",
    "Looking for a new set of hyperparameters often means taking a lot of time\n",
    "training networks that are not converging. To avoid this pitfall, it is often\n",
    "advise to simplify the problem: focus on a subset of data / classification task\n",
    "that is more tractable than the one that is currently explored. This is the\n",
    "purpose of `clinicadl generate` which creates a set of synthetic, tractable data\n",
    "from real data to check that developed networks are working on this simple case\n",
    "before going further.\n",
    "\n",
    "<div class=\"alert alert-block alert-info\">\n",
    "<b>Tractable data:</b><p>\n",
    "    In this notebook, we call tractable data a set of pairs of images and labels that can be easily classified. In ClinicaDL, tractable data is generated from real brain images and consist in creating two classes in which the intensitites of the left or the right part of the brain are decreased.</p>\n",
    "    <img src=\"images/generate.png\" style=\"height: 200px;\" alt=\"Schemes of synthetic tractable data\">\n",
    "</div>\n",
    "\n",
    "If you ran the previous notebook, you must have a folder called\n",
    "`OasisCaps_example` in the current directory (Otherwise uncomment the next cell\n",
    "to download a local version of the necessary folders)."
   ]
  }
 ],
 "metadata": {
  "jupytext": {
   "encoding": "# -*- coding: utf-8 -*-",
   "main_language": "python"
  },
  "kernelspec": {
   "display_name": "Python 3",
   "name": "python3"
  }
 },
 "nbformat": 4,
 "nbformat_minor": 5
}