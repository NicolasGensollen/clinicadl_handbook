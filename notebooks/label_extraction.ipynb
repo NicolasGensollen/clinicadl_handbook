{
 "cells": [
  {
   "cell_type": "code",
   "execution_count": null,
   "id": "f63adbd2",
   "metadata": {},
   "outputs": [],
   "source": [
    "# Uncomment the next lines if running in Google Colab\n",
    "!pip install clinicadl==1.2.0"
   ]
  },
  {
   "cell_type": "markdown",
   "id": "08a6e6d1",
   "metadata": {
    "lines_to_next_cell": 2
   },
   "source": [
    "# Define your population\n",
    "\n",
    "This notebook is an introduction to tools that can be used to identify\n",
    "relevant samples and split them between training, validation and test cohorts.\n",
    "**This step is mandatory preliminary to training to avoid issues such as lack\n",
    "of clinical meaning or data leakage**. \n",
    "\n",
    "In the following, we will see how to split these samples between training,\n",
    "validation and test sets using tools available in `clinica` and `clinicadl`."
   ]
  },
  {
   "cell_type": "markdown",
   "id": "bdbe8035",
   "metadata": {},
   "source": [
    "## Before starting\n",
    "This notebook allows to prepare the set of data to train a neural network.\n",
    "This first two commands are the only ones that require access to the BIDS, if \n",
    "you were not able to download the data, you can uncomment the following cell\n",
    "to download the BIDS of 4 subjects from OASIS-1 or the BIDS of 2 subjects \n",
    "from ADNI that were generated in the \n",
    "[preprocessing section](./preprocessing.ipynb)."
   ]
  },
  {
   "cell_type": "code",
   "execution_count": null,
   "id": "2c4343f7",
   "metadata": {},
   "outputs": [],
   "source": [
    "# #OASIS BIDS\n",
    "!curl -k https://aramislab.paris.inria.fr/files/data/handbook_2023/data_oasis/BIDS_example.tar.gz -o BIDS_example.tar.gz\n",
    "!tar xf BIDS_example.tar.gz "
   ]
  },
  {
   "cell_type": "code",
   "execution_count": null,
   "id": "ef1cef61",
   "metadata": {
    "lines_to_next_cell": 2
   },
   "outputs": [],
   "source": [
    "# #ADNI BIDS\n",
    "!curl -k https://aramislab.paris.inria.fr/files/data/handbook_2023/data_adni/BIDS_example.tar.gz -o BIDS_example.tar.gz\n",
    "!tar xf BIDS_example.tar.gz "
   ]
  },
  {
   "cell_type": "markdown",
   "id": "d203ffcd",
   "metadata": {},
   "source": [
    "## Get metadata from a BIDS hierarchy with `clinica iotools`\n",
    "### Gather BIDS and CAPS data into a single TSV file\n",
    "\n",
    "In a BIDS hierarchy, demographic, clinical and imaging metadata are stored in\n",
    "TSV files located at different levels of the hierarchy depending on whether\n",
    "they are specific to a subject (e.g. gender), a session (e.g. diagnosis) or a\n",
    "scan (e.g. acquisitions parameters).\n",
    "\n",
    "The following command line can be used to merge all the metadata in a single\n",
    "TSV file:\n",
    "```bash\n",
    "clinica iotools merge-tsv <bids_directory> <output_tsv>\n",
    "```\n",
    "where:\n",
    "- `bids_directory` is the input folder containing the dataset in a BIDS\n",
    "hierarchy.\n",
    "- `output_tsv` is the path of the output tsv. If a directory is specified\n",
    "instead of a file name, the default name for the file created will be\n",
    "`merge-tsv.tsv`."
   ]
  },
  {
   "cell_type": "markdown",
   "id": "ba2f8408",
   "metadata": {
    "lines_to_next_cell": 0
   },
   "source": [
    "We are going to run some experiences on ADNI and OASIS datasets,\n",
    "if you have already download the full dataset and converted it to\n",
    "BIDS, you can give the path to the dataset directory by changing\n",
    "the following path. If not, just run it as written.\n",
    "Execute the following command to gather metadata included in this BIDS."
   ]
  },
  {
   "cell_type": "code",
   "execution_count": null,
   "id": "0c74df9f",
   "metadata": {},
   "outputs": [],
   "source": [
    "# Merge meta-data information\n",
    "!clinica iotools merge-tsv data_oasis/BIDS_example data_oasis/merged.tsv "
   ]
  },
  {
   "cell_type": "code",
   "execution_count": null,
   "id": "9e8e0b65",
   "metadata": {
    "lines_to_next_cell": 0
   },
   "outputs": [],
   "source": [
    "!clinica iotools merge-tsv data_adni/BIDS_example data_adni/merged.tsv "
   ]
  },
  {
   "cell_type": "markdown",
   "id": "84493be6",
   "metadata": {
    "lines_to_next_cell": 0
   },
   "source": [
    "### Check missing modalities for each subject\n",
    "\n",
    "We want to restrict the list of the sessions used to those including a T1-MR\n",
    "image. Then the following command is needed to identify which modalities are\n",
    "present for each session:\n",
    "\n",
    "```bash\n",
    "clinica iotools check-missing-modalities <bids_directory> <output_directory>\n",
    "```\n",
    "where:\n",
    "- `bids_directory` is the input folder of a BIDS compliant dataset.\n",
    "- `output_directory` is the output folder.\n",
    "\n",
    "This pipeline does not have an option to give a list of subject/session so you\n",
    "will check the missing modalities of all the datasets.\n",
    "\n",
    " Execute the following command to find which sessions include a T1-MR image on\n",
    " the example BIDS of OASIS:"
   ]
  },
  {
   "cell_type": "code",
   "execution_count": null,
   "id": "fa3e3a68",
   "metadata": {
    "lines_to_next_cell": 0
   },
   "outputs": [],
   "source": [
    "# Find missing modalities\n",
    "!clinica iotools check-missing-modalities data_oasis/BIDS_example_local data_oasis/missing_mods"
   ]
  },
  {
   "cell_type": "code",
   "execution_count": null,
   "id": "1e0afaa5",
   "metadata": {
    "lines_to_next_cell": 0
   },
   "outputs": [],
   "source": [
    "!clinica iotools check-missing-modalities data_adni/BIDS_example data_adni/missing_mods"
   ]
  },
  {
   "cell_type": "markdown",
   "id": "f953c89d",
   "metadata": {},
   "source": [
    "The output of this command, `missing_mods/`, is a folder in\n",
    "which a series of tsv files is written (one file per session label containing\n",
    "one row per subject and one column per modality)."
   ]
  },
  {
   "cell_type": "markdown",
   "id": "a71a8554",
   "metadata": {},
   "source": [
    "## Prepare metadata with `clinicadl tsvtools` \n",
    "\n",
    "In order to do the rest of the notebooks, you will have to download the \n",
    "data from [ADNI](https://adni.loni.usc.edu/) or [OASIS](https://oasis-brains.org/) \n",
    "because it is not possible to separate a set of 4 images without data leakage.\n",
    "Moreover, you will need the data in a BIDS and a CAPS format so you need to \n",
    "re-run the notebook [preprocessing section](./preprocessing.ipynb) with your\n",
    "own data.\n",
    "\n",
    "But in this section we will work on a subset of 100 subjects of the OASIS \n",
    "dataset (and a subset of 100 subjects of the ADNI dataset) and you only need \n",
    "the list of subject for now. You can find this list of participants that have\n",
    "passed the quality check in the data folder (oasis_after_qc.tsv and \n",
    "adni_after_qc.tsv).\n",
    "\n",
    "If you were not able to run the two previous cells on the full dataset, you \n",
    "can uncomment the next cell to download the needed files (merged.tsv and \n",
    "missing_mods directory)"
   ]
  },
  {
   "cell_type": "code",
   "execution_count": null,
   "id": "5ff45c68",
   "metadata": {},
   "outputs": [],
   "source": [
    "#for OASIS-1 dataset\n",
    "!curl -k https://aramislab.paris.inria.fr/clinicadl/files/handbook_2023/data_oasis/iotools_output.tar.gz -o iotools_output.tar.gz\n",
    "!tar xf iotools_output.tar.gz"
   ]
  },
  {
   "cell_type": "code",
   "execution_count": null,
   "id": "aa5494c8",
   "metadata": {},
   "outputs": [],
   "source": [
    "#for ADNI dataset\n",
    "!curl -k https://aramislab.paris.inria.fr/clinicadl/files/handbook_2023/data_adni/iotools_output.tar.gz -o iotools_output.tar.gz\n",
    "!tar xf iotools_output.tar.gz"
   ]
  },
  {
   "cell_type": "markdown",
   "id": "87846050",
   "metadata": {
    "lines_to_next_cell": 2
   },
   "source": [
    "### Get the labels\n",
    "\n",
    "The 3 labels described in the [first part of the course](../clinical) (AD, CN,\n",
    "MCI) can be extracted with ClinicaDL using the command:\n",
    "\n",
    "```bash\n",
    "clinicadl tsvtools get-labels bids_directory results_tsv\n",
    "```\n",
    "where:\n",
    "- `bids_directory` the input folder containing the dataset in a BIDS\n",
    "hierarchy.\n",
    "- `results_path` is the path to the tsv file.\n",
    "\n",
    "```{tip}\n",
    "You can increase the verbosity of the command by adding -v flag(s).\n",
    "```\n",
    "\n",
    "The bids directory is mandatory to run the `clinica iotools merge-tsv` and\n",
    "`clinica iotools check-missing-modalities` inside this pipelines if it has not\n",
    "been done before.  However if you already have run these pipelines, the path\n",
    "is not mandatory anymore so you can put anything and add the options\n",
    "`--merged_tsv` and `--missing_mods`. It will avoid the pipeline to re-run\n",
    "them."
   ]
  },
  {
   "cell_type": "markdown",
   "id": "50a078ca",
   "metadata": {
    "lines_to_next_cell": 0
   },
   "source": [
    "By default the pipeline only extracts the AD and CN labels, which corresponds\n",
    "to the only available labels in OASIS. Run the following cell to extract them\n",
    "in a new file `labels.tsv` from the restricted version of OASIS:"
   ]
  },
  {
   "cell_type": "code",
   "execution_count": null,
   "id": "a096b766",
   "metadata": {
    "lines_to_next_cell": 0
   },
   "outputs": [],
   "source": [
    "!clinicadl tsvtools get-labels data_oasis/BIDS_example --merged_tsv data_oasis/merged.tsv --missing_mods data_oasis/missing_mods --restriction_tsv data/oasis_after_qc.tsv"
   ]
  },
  {
   "cell_type": "markdown",
   "id": "e5dd97ee",
   "metadata": {
    "lines_to_next_cell": 0
   },
   "source": [
    "In ADNI dataset, a subject can have several sessions during his follow-up and\n",
    "so you can find another diagnosis, mild cognitive impairment (MCI). For more \n",
    "information please refer to the [preprocessing section](./preprocessing.ipynb).\n",
    "Moreover, the BIDS example that you have downloaded doesn't label alzheimer's \n",
    "disease as 'AD' but as 'Dementia' so you need to add the '--diagnosis/-d' \n",
    "option."
   ]
  },
  {
   "cell_type": "code",
   "execution_count": null,
   "id": "9406a743",
   "metadata": {
    "lines_to_next_cell": 0
   },
   "outputs": [],
   "source": [
    "!clinicadl tsvtools get-labels data_adni/BIDS_example --merged_tsv data_adni/merged.tsv --missing_mods data_adni/missing_mods --restriction_tsv data/adni_after_qc.tsv -d CN -d Dementia -d MCI"
   ]
  },
  {
   "cell_type": "markdown",
   "id": "e6d8c2e2",
   "metadata": {},
   "source": [
    "This tool writes a unique TSV file containing the labels asked by the user.\n",
    "They are stored in the column named diagnosis.\n",
    "\n",
    "<div class=\"alert alert-block alert-info\">\n",
    "<b>Restriction path:</b><p>\n",
    "    At the end of the command line a restriction was given to extract the\n",
    "    labels only from sessions in <code>data/oasis_after_qc.tsv</code>. This tsv\n",
    "    file corresponds to the output of the <a\n",
    "    href=\"./preprocessing.ipynb\">quality check procedure</a> that was manually\n",
    "    cut to only keep the sessions passing the quality check. It depends on the\n",
    "    preprocessing: here it concerns a run of <code>t1-linear</code>.</p>\n",
    "</div>"
   ]
  },
  {
   "cell_type": "markdown",
   "id": "af96e08f",
   "metadata": {
    "lines_to_next_cell": 0
   },
   "source": [
    "### Analyze the population\n",
    "\n",
    "The age bias in OASIS is well known and this is why the youngest CN\n",
    "participants were previously excluded. However, other biases may exist,\n",
    "especially after the quality check of the preprocessing which removed sessions\n",
    "from the dataset. Thus it is crucial to check before going further if there\n",
    "are other biases in the dataset.\n",
    "\n",
    "ClinicaDL implements a tool to perform a demographic and clinical analysis of\n",
    "the population:\n",
    "\n",
    "```bash\n",
    "clinicadl tsvtools analysis <merged_tsv> <data_tsv> <results_path>\n",
    "```\n",
    "where:\n",
    "- `merged_tsv` is the output file of the `clinica iotools merge-tsv`command.\n",
    "- `data_tsv` is the output file of `clinicadl tsvtool getlabels|split|kfold`).\n",
    "- `results_path` is the path to the tsv file that will be written (filename included).\n",
    "\n",
    "\n",
    "The following command will extract statistical values on the populations for\n",
    "each diagnostic label. Based on those it is possible to check that the dataset\n",
    "is suitable for the classification task."
   ]
  },
  {
   "cell_type": "code",
   "execution_count": null,
   "id": "be794dca",
   "metadata": {
    "lines_to_next_cell": 0
   },
   "outputs": [],
   "source": [
    "# Run the analysis on OASIS\n",
    "!clinicadl tsvtools analysis data_oasis/merged.tsv data_oasis/labels.tsv data_oasis/analysis.tsv"
   ]
  },
  {
   "cell_type": "code",
   "execution_count": null,
   "id": "c44e394e",
   "metadata": {},
   "outputs": [],
   "source": [
    "# Run the analysis on ADNI\n",
    "!clinicadl tsvtools analysis data_adni/merged.tsv data_adni/labels.tsv data_adni/analysis.tsv -d CN -d Dementia -d MCI"
   ]
  },
  {
   "cell_type": "code",
   "execution_count": null,
   "id": "6700cbae",
   "metadata": {
    "lines_to_next_cell": 0
   },
   "outputs": [],
   "source": [
    "def display_table(table_path):\n",
    "    \"\"\"Custom function to display the clinicadl tsvtool analysis output\"\"\"\n",
    "    import pandas as pd\n",
    "\n",
    "    OASIS_analysis_df = pd.read_csv(table_path, sep='\\t')\n",
    "    OASIS_analysis_df.set_index(\"group\", drop=True, inplace=True)\n",
    "    columns = [\"n_subjects\", \"n_scans\",\n",
    "               \"mean_age\", \"std_age\", \"min_age\", \"max_age\",\n",
    "               \"sexF\", \"sexM\",\n",
    "               \"mean_MMSE\", \"std_MMSE\", \"min_MMSE\", \"max_MMSE\",\n",
    "               \"CDR_0\", \"CDR_0.5\", \"CDR_1\", \"CDR_2\", \"CDR_3\"]\n",
    "\n",
    "    # Print formatted table\n",
    "    format_columns = [\"subjects\", \"scans\", \"age\", \"sex\", \"MMSE\", \"CDR\"]\n",
    "    format_df = pd.DataFrame(index=OASIS_analysis_df.index, columns=format_columns)\n",
    "    for idx in OASIS_analysis_df.index.values:    \n",
    "        row_str = \"%i; %i; %.1f ± %.1f [%.1f, %.1f]; %iF / %iM; %.1f ± %.1f [%.1f, %.1f]; 0: %i, 0.5: %i, 1: %i, 2:%i, 3:%i\" % tuple([OASIS_analysis_df.loc[idx, col] for col in columns])\n",
    "        row_list = row_str.split(';')\n",
    "        format_df.loc[idx] = row_list\n",
    "\n",
    "    format_df.index.name = None\n",
    "    display(format_df)"
   ]
  },
  {
   "cell_type": "code",
   "execution_count": null,
   "id": "8cee3857",
   "metadata": {
    "lines_to_next_cell": 0
   },
   "outputs": [],
   "source": [
    "display_table(\"data_oasis/analysis.tsv\")"
   ]
  },
  {
   "cell_type": "code",
   "execution_count": null,
   "id": "9d2960b6",
   "metadata": {
    "lines_to_next_cell": 0
   },
   "outputs": [],
   "source": [
    "display_table(\"data_adni/analysis.tsv\")"
   ]
  },
  {
   "cell_type": "markdown",
   "id": "5585e4d0",
   "metadata": {},
   "source": [
    "If you were not able to run the previous cell to get the analysis, you \n",
    "can find the results int `data` folder on github to have an overview of \n",
    "what it should look like."
   ]
  },
  {
   "cell_type": "markdown",
   "id": "ad392d08",
   "metadata": {},
   "source": [
    "There is no significant bias on age anymore, but do you notice any other\n",
    "problems? \n",
    "\n",
    "<div class=\"alert alert-block alert-warning\">\n",
    "<b>Demographic bias:</b>\n",
    "    <p>There is still a difference in sex distribution and the network could\n",
    "    learn a bias on sex such as \"women are cognitively normal\" and \"men are\n",
    "    demented\". However, there are too few images in OASIS to continue removing\n",
    "    sessions to equilibrate the groups.\n",
    "    \n",
    "    To check that such bias is not learnt, it is possible to run a logistic\n",
    "    regression after training between sex and the predicted label to check if\n",
    "    they are correlated.</p>\n",
    "</div>"
   ]
  },
  {
   "cell_type": "markdown",
   "id": "ca86cde1",
   "metadata": {},
   "source": [
    "### Get the progression of the Alzheimer's disease\n",
    "\n",
    "For ADNI dataset, because the dataset is longitudinal, the stability of the\n",
    "diagnostic status can be calculated.  The progression label corresponds to the\n",
    "following description: \n",
    "- s (stable): diagnosis remains identical during the time_horizon period\n",
    "following the current visit, \n",
    "- p (progressive): diagnosis progresses to the following state during the\n",
    "time_horizon period following the current visit (eg. MCI --> AD), \n",
    "- r (regressive): diagnosis regresses to the previous state during the\n",
    "time_horizon period following the current visit (eg. MCI --> CN), \n",
    "- uk (unknown): there are not enough sessions to assess the reliability of the\n",
    "label but no changes were spotted, \n",
    "- us (unstable): otherwise (multiple conversions / regressions). \n",
    "\n",
    "ClinicaDL implements a tool to get the progression label for each couple\n",
    "[subject, session] and add a new column progression to the TSV file given.\n",
    "\n",
    "```bash\n",
    "  clinicadl tsvtools get-progression [OPTIONS] DATA_TSV\n",
    "``` \n",
    "with :\n",
    " - `<data_tsv>` (str) is the TSV file containing the data (output of clinicadl\n",
    " tsvtools get-labels|split|kfold).\n",
    " - `--time_horizon` (int) can be added: It is the time horizon in months that\n",
    " is used to assess the stability of the MCI subjects. Default value: 36.\n",
    "\n",
    "```{tip}\n",
    "The diagnosis column do not need to be part of the columns, the pipeline will\n",
    "go back to the labels.tsv to calculate the progression\n",
    "``` "
   ]
  },
  {
   "cell_type": "markdown",
   "id": "613fddd1",
   "metadata": {
    "lines_to_next_cell": 0
   },
   "source": [
    "#### Run the pipeline on ADNI dataset"
   ]
  },
  {
   "cell_type": "code",
   "execution_count": null,
   "id": "57cedaf5",
   "metadata": {},
   "outputs": [],
   "source": [
    "!clinicadl tsvtools get-progression data_adni/labels.tsv "
   ]
  },
  {
   "cell_type": "code",
   "execution_count": null,
   "id": "61e9c49c",
   "metadata": {},
   "outputs": [],
   "source": [
    "import pandas as pd\n",
    "df_labels = pd.read_csv(\"data_adni/labels.tsv\", sep =\"\\t\")\n",
    "df_labels.set_index([\"participant_id\",\"session_id\"])\n",
    "print(df_labels)"
   ]
  },
  {
   "cell_type": "markdown",
   "id": "60416961",
   "metadata": {
    "lines_to_next_cell": 0
   },
   "source": [
    "## Split the data samples into training, validation and test sets\n",
    "\n",
    "Now that the labels have been extracted and possible biases have been\n",
    "identified, data have to be split in different sets. This step is essential to\n",
    "guarantee the independence of the final evaluation. \n",
    "\n",
    "<div class=\"alert alert-block alert-info\">\n",
    "<b>Definition of sets:</b><p>\n",
    "    In this notebook, data samples are divided between train, validation and\n",
    "    test sets:\n",
    "<ul>\n",
    "    <li> The <b>train set</b> is used to update the weights, </li>\n",
    "    <li> The <b>validation set</b> is used to stop the training process and select the best model, </li>\n",
    "    <li> The <b>test set</b> is used after the end of the training process to perform an unbiased evaluation of the performance. </li>\n",
    "</ul>\n",
    "    <img src=\"../images/split.png\">\n",
    "    <p>Due to the k-fold validation procedure, k trainings are conducted\n",
    "    according to the k training/validation pairs generated. This leads to k\n",
    "    different models that are evaluated on the test set at the end. The final\n",
    "    test performance is then the mean value of these k models.</p>\n",
    "</div>\n",
    "\n",
    "Tools that have been developed for this part are based on the guidelines of\n",
    "([Varoquaux et al., 2017](https://doi.org/10.1016/j.neuroimage.2016.10.038)).\n",
    "\n",
    "### Build the test set\n",
    "\n",
    "The test set is obtained by performing a single split obtained with `clinicadl\n",
    "tsvtool split`:\n",
    "\n",
    "```bash\n",
    "clinicadl tsvtool split <data_tsv>\n",
    "```\n",
    "where:\n",
    "- `data_tsv` is the he TSV file with the data that are going to be split\n",
    "(output of clinicadl tsvtools getlabels|split|kfold).\n",
    "\n",
    "Each diagnostic label is split independently. Random splits are generated\n",
    "until there are non-significant differences between age and sex distributions\n",
    "between the test set and the train + validation set. Then three TSV files are\n",
    "written:\n",
    "\n",
    "- the baseline sessions of the test set,\n",
    "- the baseline sessions of the train + validation set,\n",
    "- the longitudinal sessions of the train + validation set.\n",
    "\n",
    "In OASIS there is no longitudinal follow-up, hence the last two TSV files are\n",
    "identical.\n",
    "\n",
    "Let's create a test set including 20 subjects:"
   ]
  },
  {
   "cell_type": "code",
   "execution_count": null,
   "id": "f7461621",
   "metadata": {},
   "outputs": [],
   "source": [
    "!clinicadl tsvtools split data_oasis/labels.tsv --n_test 20 --subset_name test "
   ]
  },
  {
   "cell_type": "code",
   "execution_count": null,
   "id": "b6f43a82",
   "metadata": {
    "lines_to_next_cell": 0
   },
   "outputs": [],
   "source": [
    "# for Adni dataset\n",
    "!clinicadl tsvtools split data_adni/labels.tsv --n_test 0.2 --subset_name test "
   ]
  },
  {
   "cell_type": "markdown",
   "id": "973155af",
   "metadata": {
    "lines_to_next_cell": 0
   },
   "source": [
    "The differences between populations of the train + validation and test sets\n",
    "can be assessed to check that there is no discrepancies between the two sets."
   ]
  },
  {
   "cell_type": "code",
   "execution_count": null,
   "id": "512f0bf5",
   "metadata": {
    "lines_to_next_cell": 0
   },
   "outputs": [],
   "source": [
    "!clinicadl tsvtools analysis data_oasis/merged.tsv data_oasis/split/train.tsv data_oasis/analysis_trainval.tsv"
   ]
  },
  {
   "cell_type": "code",
   "execution_count": null,
   "id": "62674225",
   "metadata": {
    "lines_to_next_cell": 0
   },
   "outputs": [],
   "source": [
    "!clinicadl tsvtools analysis data_oasis/merged.tsv data_oasis/split/test_baseline.tsv data_oasis/analysis_test.tsv"
   ]
  },
  {
   "cell_type": "code",
   "execution_count": null,
   "id": "a546e027",
   "metadata": {
    "lines_to_next_cell": 0
   },
   "outputs": [],
   "source": [
    "print(\"Train + validation set\")\n",
    "display_table(\"data_oasis/analysis_trainval.tsv\")\n",
    "print(\"Test set\")\n",
    "display_table(\"data_oasis/analysis_test.tsv\")"
   ]
  },
  {
   "cell_type": "markdown",
   "id": "ce717535",
   "metadata": {
    "lines_to_next_cell": 0
   },
   "source": [
    "If you are not satisfied with these populations, you can relaunch the test or\n",
    "change the parameters used to evaluate the difference between the\n",
    "distributions: `p_val_threshold` and `t_val_threshold`.\n",
    "\n",
    "<div class=\"alert alert-block alert-info\">\n",
    "<b>Unique test set:</b>\n",
    "    <p>Only one test set was created in (<a\n",
    "    href=\"https://www.sciencedirect.com/science/article/abs/pii/S1361841520300591\">Wen\n",
    "    et al., 2020</a>) to evaluate the final performance of one model. This is\n",
    "    because architecture search was performed on the training + validation sets.\n",
    "    As this operation is very costly and/or is done mostly manually, it was not\n",
    "    possible to do it several times.</p>\n",
    "</div>"
   ]
  },
  {
   "cell_type": "markdown",
   "id": "d07a7287",
   "metadata": {
    "lines_to_next_cell": 0
   },
   "source": [
    "### Build the validation sets\n",
    "\n",
    "To better estimate the performance of the network, it is trained 5 times using\n",
    "a 5-fold cross-validation procedure. In this procedure, each sample is used\n",
    "once to validate and the other times to train the network. In the same way as\n",
    "for the single split, the TSV files can be processed by  ClinicaDL:\n",
    "\n",
    "```bash\n",
    "clinicadl tsvtool kfold <formatted_data_path>\n",
    "```\n",
    "\n",
    "where `formatted_data_path` is the output tsv file of `clinicadl tsvtool getlabels|split|kfold`.\n",
    "\n",
    "In a similar way than for the test split, three tsv files are written\n",
    "**per split** for each set:\n",
    "\n",
    "- the baseline sessions of the validation set,\n",
    "- the baseline sessions of the train set,\n",
    "- the longitudinal sessions of the train set.\n",
    "\n",
    "Contrary to the test split, there is no attempt to control the similarity\n",
    "between the age and sex distributions. Indeed here we consider that averaging\n",
    "across the results of the 5 folds already reduces bias compared to a single\n",
    "data split."
   ]
  },
  {
   "cell_type": "code",
   "execution_count": null,
   "id": "e00f664d",
   "metadata": {},
   "outputs": [],
   "source": [
    "!clinicadl tsvtools kfold data_oasis/split/train.tsv --n_splits 4 --subset_name validation"
   ]
  },
  {
   "cell_type": "code",
   "execution_count": null,
   "id": "88f5c3f0",
   "metadata": {
    "lines_to_next_cell": 0
   },
   "outputs": [],
   "source": [
    "# for ADNI dataset\n",
    "!clinicadl tsvtools kfold data_adni/split/train.tsv --n_splits 4 --subset_name validation"
   ]
  },
  {
   "cell_type": "markdown",
   "id": "648f31f2",
   "metadata": {
    "lines_to_next_cell": 0
   },
   "source": [
    "### Check the absence of data leakage\n",
    "\n",
    "In OASIS-1 there is no risk of data leakage due to the data split itself as\n",
    "there is only one session per subject. Also there is no MCI patients, hence\n",
    "there is no risk of data leakage during a transfer learning between a source\n",
    "task involving the MCI set and a target task involving at least one of its\n",
    "subsets (sMCI or pMCI). However for other datasets, it might be useful to\n",
    "check that there is no correlated data spread between the train and test sets.\n",
    "\n",
    "A script in `clinicadl` has been created to check that there was no data\n",
    "leakage after the split steps. More specifically it checks that:\n",
    "\n",
    "1. Baseline datasets contain only one scan per subject.\n",
    "2. No intersection exists between train and test sets.\n",
    "3. MCI train subjects are absent from test sets of subcategories of MCI.\n",
    "    \n",
    "As it is not a common function, it has not been integrated to the general\n",
    "command line. The next cell executes it on the splits generated in the previous\n",
    "sections."
   ]
  },
  {
   "cell_type": "code",
   "execution_count": null,
   "id": "56392046",
   "metadata": {
    "lines_to_next_cell": 0
   },
   "outputs": [],
   "source": [
    "from clinicadl.tests.test_tsvtools import run_test_suite\n",
    "\n",
    "# Run check for train+val / test split\n",
    "run_test_suite(\"./data/labels_lists\", n_splits=0, subset_name=\"test\")\n",
    "\n",
    "# Run check for train / validation splits\n",
    "run_test_suite(\"./data/labels_lists/train\", n_splits=5, subset_name=\"validation\")"
   ]
  },
  {
   "cell_type": "markdown",
   "id": "16c2900e",
   "metadata": {},
   "source": [
    "If no Error was raised then none of the three conditions was broken. It is now\n",
    "possible to use the train and the validation sets to perform a classification\n",
    "task, and then to evaluate correctly the performance of the classifier on the\n",
    "test set.\n",
    "\n",
    "<div class=\"alert alert-block alert-warning\">\n",
    "<b>Data leakage:</b>\n",
    "    <p>Many procedures can cause data leakage and thus bias the performance,\n",
    "    leading to impossible claims. It is crucial to check that the test set has\n",
    "    not been contaminated by data that is correlated to the train and/or\n",
    "    validation sets. You will find below examples of procedures that can lead to\n",
    "    data leakage.</p>\n",
    "    <img src=\"../images/data_leakage.png\">\n",
    "</div>"
   ]
  },
  {
   "cell_type": "code",
   "execution_count": null,
   "id": "38920ea6",
   "metadata": {},
   "outputs": [],
   "source": [
    "# Now that you have your train, test and validation split, you can train a \n",
    "# network for classification, regression or reconstruction with clinicaDL."
   ]
  }
 ],
 "metadata": {
  "jupytext": {
   "encoding": "# -*- coding: utf-8 -*",
   "main_language": "python"
  },
  "kernelspec": {
   "display_name": "Python 3",
   "name": "python3"
  }
 },
 "nbformat": 4,
 "nbformat_minor": 5
}
