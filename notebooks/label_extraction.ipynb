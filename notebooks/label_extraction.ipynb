{
 "cells": [
  {
   "cell_type": "code",
   "execution_count": null,
   "id": "2ee5242d",
   "metadata": {
    "lines_to_next_cell": 0
   },
   "outputs": [],
   "source": [
    "# Uncomment the next lines if running in Google Colab\n",
    "!pip install clinicadl==0.2.1\n",
    "!curl -k https://aramislab.paris.inria.fr/files/data/databases/tuto/dataOasis.tar.gz -o dataOasis.tar.gz\n",
    "!tar xf dataOasis.tar.gz"
   ]
  },
  {
   "cell_type": "markdown",
   "id": "33287dab",
   "metadata": {
    "lines_to_next_cell": 0
   },
   "source": [
    "# Define your population\n",
    "\n",
    "This notebook is an introduction to tools that can be used to identify relevant samples and split them between training, validation and test cohorts. **This step is mandatory preliminary to training to avoid issues such as lack of clinical meaning or data leakage**. \n",
    "\n",
    "In the following, we will see how to\n",
    "- extract samples corresponding to labels of interest from a BIDS hierarchy,\n",
    "- split these samples between training, validation and test sets\n",
    "\n",
    "using tools available in `clinica` and `clinicadl`."
   ]
  },
  {
   "cell_type": "markdown",
   "id": "096b470e",
   "metadata": {
    "lines_to_next_cell": 0
   },
   "source": [
    "## Merge metadata from a BIDS hierarchy with `clinica iotools`\n",
    "\n",
    "In a BIDS hierarchy, demographic, clinical and imaging metadata are stored in\n",
    "TSV files located at different levels of the hierarchy depending on whether they\n",
    "are specific to a subject (e.g. gender), a session (e.g. diagnosis) or a scan\n",
    "(e.g. acquisitions parameters).\n",
    "\n",
    "The following command line can be used to merge all the metadata in a single TSV\n",
    "file:\n",
    "```bash\n",
    "clinica iotools merge-tsv <bids_directory> <output_tsv>\n",
    "```\n",
    "where:\n",
    "- `bids_directory` is the input folder containing the dataset in a BIDS hierarchy.\n",
    "- `output_tsv` is the path of the output tsv. If a directory is specified\n",
    "instead of a file name, the default name for the file created will be\n",
    "`merge-tsv.tsv`.\n",
    "\n",
    "In the [preprocessing section](./preprocessing.ipynb) an example BIDS of 4\n",
    "subjects from OASIS-1 was generated (if you did not run interactively that\n",
    "section, download the dataset by uncomment the next cell):"
   ]
  },
  {
   "cell_type": "code",
   "execution_count": null,
   "id": "4093f0d3",
   "metadata": {
    "lines_to_next_cell": 0
   },
   "outputs": [],
   "source": [
    "!curl -k https://aramislab.paris.inria.fr/files/data/databases/tuto/OasisBids.tar.gz -o OasisBids.tar.gz\n",
    "!tar xf OasisBids.tar.gz"
   ]
  },
  {
   "cell_type": "markdown",
   "id": "e1022ae6",
   "metadata": {
    "lines_to_next_cell": 0
   },
   "source": [
    "Execute the following command to gather metadata included in this BIDS:"
   ]
  },
  {
   "cell_type": "code",
   "execution_count": null,
   "id": "02416833",
   "metadata": {
    "lines_to_next_cell": 0
   },
   "outputs": [],
   "source": [
    "# Merge meta-data information\n",
    "!clinica iotools merge-tsv OasisBids_example example_merged.tsv"
   ]
  },
  {
   "cell_type": "markdown",
   "id": "72dbbe8d",
   "metadata": {
    "lines_to_next_cell": 0
   },
   "source": [
    "We want to restrict the list of the sessions used to those including a T1-MR\n",
    "image. Then the following command is needed to identify which modalities are\n",
    "present for each session:\n",
    "```bash\n",
    "clinica iotools check-missing-modalities <bids_directory> <output_directory>\n",
    "```\n",
    "where:\n",
    "- `bids_directory` is the input folder of a BIDS compliant dataset.\n",
    "- `output_directory` is the output folder.\n",
    "\n",
    "Execute the following command to find which sessions include a T1-MR image on\n",
    "the example BIDS of OASIS:"
   ]
  },
  {
   "cell_type": "code",
   "execution_count": null,
   "id": "8dda927b",
   "metadata": {
    "lines_to_next_cell": 0
   },
   "outputs": [],
   "source": [
    "# Find missing modalities\n",
    "!clinica iotools check-missing-modalities OasisBids_example example_missing_mods"
   ]
  },
  {
   "cell_type": "markdown",
   "id": "714421e0",
   "metadata": {
    "lines_to_next_cell": 0
   },
   "source": [
    "The output of this command, `data/example_missing_mods`, is a folder in which a\n",
    "series of tsv files is written (one file per session label containing one row\n",
    "per subject and one column per modality)."
   ]
  },
  {
   "cell_type": "markdown",
   "id": "a49fc608",
   "metadata": {
    "lines_to_next_cell": 0
   },
   "source": [
    "## Get labels with `clinicadl tsvtool` on OASIS\n",
    "\n",
    "In this section we will now get the labels from **the whole OASIS dataset** on\n",
    "which `clinica iotools merge-tsv` and `clinica iotools check-missing-modalities`\n",
    "were already performed. \n",
    "\n",
    "The outputs of the corresponding pipelines can be found respectively in\n",
    "`data/OASIS_BIDS.tsv` and `data/OASIS_missing_mods`, and are provided on GitHub\n",
    "with the notebooks.\n",
    "\n",
    "### Restrict the OASIS dataset to older adults\n",
    "\n",
    "OASIS-1 consists of 416 subjects aged 18 to 96: \n",
    "\n",
    "|      | subjects   | age                      | sex         | MMSE                | CDR                        |\n",
    "|------|------------|--------------------------|-------------|---------------------|----------------------------|\n",
    "|  AD  | 100        | 76.8 ± 7.1 [62.0, 96.0]  | 59F / 41M   | 24.3 ± 4.1 [14, 30] | 0: 0, 0.5: 70, 1: 28, 2: 2 |\n",
    "|  CN  | 316        | <font color=\"red\">45.1 ± 23.9 [18.0, 94.0] </font>| 197F / 119M | 29.6 ± 0.9 [25, 30] | 0: 316                     |\n",
    "\n",
    "As you can see, CN participants are on average younger than AD participants,\n",
    "which makes sense as AD mainly affects older adults. However, this is an issue\n",
    "as aging also causes brain atrophy. The classifier may mix the signal due to\n",
    "healthy brain aging and Alzheimer's disease on such dataset, which could lead to\n",
    "an over-estimation of the performance. \n",
    "\n",
    "To avoid this bias, CN participants younger than the youngest AD patient were\n",
    "removed. This restriction can be run with the following command line:\n",
    "\n",
    "```bash\n",
    "clinicadl tsvtool restrict <dataset> <merged_tsv> <results_path>\n",
    "```\n",
    "where:\n",
    "\n",
    "- `dataset` (str) is the name of the dataset. Choices are `OASIS` or `AIBL`.\n",
    "- `merged_tsv` (str) is the output file of the `clinica iotools merge-tsv` command.\n",
    "- `results_path` (str) is the path to the output tsv file (filename included). This tsv file comprises the same columns as `merged_tsv`.\n",
    "\n",
    "Execute the following cell to apply the restriction to OASIS-1:"
   ]
  },
  {
   "cell_type": "code",
   "execution_count": null,
   "id": "d57bedf2",
   "metadata": {
    "lines_to_next_cell": 0
   },
   "outputs": [],
   "source": [
    "!clinicadl tsvtool restrict OASIS data/OASIS_BIDS.tsv data/OASIS_restricted_BIDS.tsv"
   ]
  },
  {
   "cell_type": "markdown",
   "id": "e883a13f",
   "metadata": {
    "lines_to_next_cell": 0
   },
   "source": [
    "Some other sessions were also excluded because the preprocessing operations\n",
    "failed. The list of the images that were kept after the preprocessing is stored\n",
    "in `data/OASIS_qc_output.tsv`.\n",
    "\n",
    "### Get the labels\n",
    "\n",
    "The 5 labels described in the [first part of the course](./clinical) can be\n",
    "extracted with clinicadl using the command:\n",
    "\n",
    "```bash\n",
    "clinicadl tsvtool getlabels merged_tsv missing_mods results_path\n",
    "```\n",
    "where:\n",
    "- `merged_tsv` is the output file of the `clinica iotools merge-tsv` or `clinicadl tsvtool restrict` commands.\n",
    "- `missing_mods` is the folder containing the outputs of the `clinica iotools missing-mods` command.\n",
    "- `results_path` is the path to the folder where output tsv files will be written.\n",
    "\n",
    "```{tip}\n",
    "You can increase the verbosity of the command by adding -v flag(s).\n",
    "```\n",
    "\n",
    "By default the pipeline only extracts the AD and CN labels, which corresponds to\n",
    "the only available labels in OASIS. Run the following cell to extract them in a\n",
    "new folder `labels_lists` from the restricted version of OASIS:"
   ]
  },
  {
   "cell_type": "code",
   "execution_count": null,
   "id": "efe8d143",
   "metadata": {
    "lines_to_next_cell": 0
   },
   "outputs": [],
   "source": [
    "!clinicadl tsvtool getlabels data/OASIS_restricted_BIDS.tsv data/OASIS_missing_mods data/labels_lists --restriction_path data/OASIS_after_qc.tsv"
   ]
  },
  {
   "cell_type": "markdown",
   "id": "adfea409",
   "metadata": {
    "lines_to_next_cell": 0
   },
   "source": [
    "For each diagnostic label, a file has been created comprising all the sessions\n",
    "that can be included in the classification task.\n",
    "\n",
    "<div class=\"alert alert-block alert-info\">\n",
    "<b>Restriction path:</b><p>\n",
    "    At the end of the command line another restriction was given to extract the\n",
    "    labels only from sessions in <code>data/OASIS_after_qc.tsv</code>. This tsv\n",
    "    file corresponds to the output of the <a\n",
    "    href=\"./preprocessing.ipynb\">quality check procedure</a> that was manually\n",
    "    cut to only keep the sessions passing the quality check. It depends on the\n",
    "    preprocessing: here it concerns a run of <code>t1-linear</code>.</p>\n",
    "</div>\n",
    "\n",
    "### Analyze the population\n",
    "\n",
    "The age bias in OASIS is well known and this is why the youngest CN participants\n",
    "were previously excluded. However, other biases may exist, especially after the\n",
    "quality check of the preprocessing which removed sessions from the dataset. Thus\n",
    "it is crucial to check before going further if there are other biases in the\n",
    "dataset.\n",
    "\n",
    "`clinicadl` implements a tool to perform a demographic and clinical analysis of\n",
    "the population:\n",
    "```bash\n",
    "clinicadl tsvtool analysis <merged_tsv> <formatted_data_path> <results_path>\n",
    "```\n",
    "where:\n",
    "- `merged_tsv` is the output file of the `clinica iotools merge-tsv` or `clinicadl tsvtool restrict` commands.\n",
    "- `formatted_data_path` is a folder containing one tsv file per label (output of `clinicadl tsvtool getlabels|split|kfold`).\n",
    "- `results_path` is the path to the tsv file that will be written (filename included).\n",
    "\n",
    "\n",
    "The following command will extract statistical values on the populations for\n",
    "each diagnostic label. Based on those it is possible to check that the dataset\n",
    "is suitable for the classification task."
   ]
  },
  {
   "cell_type": "code",
   "execution_count": null,
   "id": "c42ecbed",
   "metadata": {
    "lines_to_next_cell": 0
   },
   "outputs": [],
   "source": [
    "# Run the analysis\n",
    "!clinicadl tsvtool analysis data/OASIS_BIDS.tsv data/labels_lists data/OASIS_analysis.tsv"
   ]
  },
  {
   "cell_type": "code",
   "execution_count": null,
   "id": "708e35b4",
   "metadata": {
    "lines_to_next_cell": 0
   },
   "outputs": [],
   "source": [
    "def display_table(table_path):\n",
    "    \"\"\"Custom function to display the clinicadl tsvtool analysis output\"\"\"\n",
    "    import pandas as pd\n",
    "\n",
    "    OASIS_analysis_df = pd.read_csv(table_path, sep='\\t')\n",
    "    OASIS_analysis_df.set_index(\"diagnosis\", drop=True, inplace=True)\n",
    "    columns = [\"n_subjects\", \"n_scans\",\n",
    "               \"mean_age\", \"std_age\", \"min_age\", \"max_age\",\n",
    "               \"sexF\", \"sexM\",\n",
    "               \"mean_MMSE\", \"std_MMSE\", \"min_MMSE\", \"max_MMSE\",\n",
    "               \"CDR_0\", \"CDR_0.5\", \"CDR_1\", \"CDR_2\", \"CDR_3\"]\n",
    "\n",
    "    # Print formatted table\n",
    "    format_columns = [\"subjects\", \"scans\", \"age\", \"sex\", \"MMSE\", \"CDR\"]\n",
    "    format_df = pd.DataFrame(index=OASIS_analysis_df.index, columns=format_columns)\n",
    "    for idx in OASIS_analysis_df.index.values:    \n",
    "        row_str = \"%i; %i; %.1f ± %.1f [%.1f, %.1f]; %iF / %iM; %.1f ± %.1f [%.1f, %.1f]; 0: %i, 0.5: %i, 1: %i, 2:%i, 3:%i\" % tuple([OASIS_analysis_df.loc[idx, col] for col in columns])\n",
    "        row_list = row_str.split(';')\n",
    "        format_df.loc[idx] = row_list\n",
    "\n",
    "    format_df.index.name = None\n",
    "    display(format_df)"
   ]
  },
  {
   "cell_type": "code",
   "execution_count": null,
   "id": "fa1a575d",
   "metadata": {
    "lines_to_next_cell": 0
   },
   "outputs": [],
   "source": [
    "display_table(\"data/OASIS_analysis.tsv\")"
   ]
  },
  {
   "cell_type": "markdown",
   "id": "b99e0d38",
   "metadata": {
    "lines_to_next_cell": 0
   },
   "source": [
    "There is no significant bias on age anymore, but do you notice any other\n",
    "problems? \n",
    "\n",
    "<div class=\"alert alert-block alert-warning\">\n",
    "<b>Demographic bias:</b>\n",
    "    <p>There is still a difference in sex distribution and the network could\n",
    "    learn a bias on sex such as \"women are cognitively normal\" and \"men are\n",
    "    demented\". However, there are too few images in OASIS to continue removing\n",
    "    sessions to equilibrate the groups.\n",
    "\n",
    "To check that such bias is not learnt, it is possible to run a logistic\n",
    "regression after training between sex and the predicted label to check if they\n",
    "are correlated.</p>\n",
    "</div>"
   ]
  },
  {
   "cell_type": "markdown",
   "id": "49f80e2f",
   "metadata": {
    "lines_to_next_cell": 0
   },
   "source": [
    "## Split the data samples into training, validation and test sets\n",
    "\n",
    "Now that the labels have been extracted and possible biases have been\n",
    "identified, data have to be split in different sets. This step is essential to\n",
    "guarantee the independence of the final evaluation. \n",
    "\n",
    "<div class=\"alert alert-block alert-info\">\n",
    "<b>Definition of sets:</b><p>\n",
    "    In this notebook, data samples are divided between train, validation and\n",
    "    test sets:\n",
    "<ul>\n",
    "    <li> The <b>train set</b> is used to update the weights, </li>\n",
    "    <li> The <b>validation set</b> is used to stop the training process and select the best model, </li>\n",
    "    <li> The <b>test set</b> is used after the end of the training process to perform an unbiased evaluation of the performance. </li>\n",
    "</ul>\n",
    "    <img src=\"./images/split.png\">\n",
    "    <p>Due to the k-fold validation procedure, k trainings are conducted\n",
    "    according to the k training/validation pairs generated. This leads to k\n",
    "    different models that are evaluated on the test set at the end. The final\n",
    "    test performance is then the mean value of these k models.</p>\n",
    "</div>\n",
    "\n",
    "Tools that have been developed for this part are based on the guidelines of\n",
    "([Varoquaux et al., 2017](https://doi.org/10.1016/j.neuroimage.2016.10.038)).\n",
    "\n",
    "### Build the test set\n",
    "\n",
    "The test set is obtained by performing a single split obtained with `clinicadl\n",
    "tsvtool split`:\n",
    "```bash\n",
    "clinicadl tsvtool split <merged_tsv> <formatted_data_path>\n",
    "```\n",
    "where:\n",
    "- `merged_tsv` is the output file of the `clinica iotools merge-tsv` or `clinicadl tsvtool restrict` commands.\n",
    "- `formatted_data_path` is a folder containing one tsv file per label (output of `clinicadl tsvtool getlabels|split|kfold`).\n",
    "\n",
    "Each diagnostic label is split independently. Random splits are generated until\n",
    "there are non-significant differences between age and sex distributions between\n",
    "the test set and the train + validation set. Then three TSV files are written\n",
    "per label:\n",
    "\n",
    "- the baseline sessions of the test set,\n",
    "- the baseline sessions of the train + validation set,\n",
    "- the longitudinal sessions of the train + validation set.\n",
    "\n",
    "In OASIS there is no longitudinal follow-up, hence the last two TSV files are\n",
    "identical.\n",
    "\n",
    "Let's create a test set including 20 subjects per label:"
   ]
  },
  {
   "cell_type": "code",
   "execution_count": null,
   "id": "96e8f1d9",
   "metadata": {
    "lines_to_next_cell": 0,
    "title": "!clinicadl tsvtool split data/labels_lists --n_test 20"
   },
   "outputs": [],
   "source": []
  },
  {
   "cell_type": "markdown",
   "id": "b49cde53",
   "metadata": {
    "lines_to_next_cell": 0
   },
   "source": [
    "The differences between populations of the train + validation and test sets can\n",
    "be assessed to check that there is no discrepancies between the two sets."
   ]
  },
  {
   "cell_type": "code",
   "execution_count": null,
   "id": "2b76edfd",
   "metadata": {
    "lines_to_next_cell": 0
   },
   "outputs": [],
   "source": [
    "!clinicadl tsvtool analysis data/OASIS_BIDS.tsv data/labels_lists/train data/OASIS_trainval_analysis.tsv"
   ]
  },
  {
   "cell_type": "code",
   "execution_count": null,
   "id": "f7a6912a",
   "metadata": {
    "lines_to_next_cell": 0
   },
   "outputs": [],
   "source": [
    "!clinicadl tsvtool analysis data/OASIS_BIDS.tsv data/labels_lists/test data/OASIS_test_analysis.tsv"
   ]
  },
  {
   "cell_type": "code",
   "execution_count": null,
   "id": "d65133af",
   "metadata": {
    "lines_to_next_cell": 0
   },
   "outputs": [],
   "source": [
    "print(\"Train + validation set\")\n",
    "display_table(\"data/OASIS_trainval_analysis.tsv\")\n",
    "print(\"Test set\")\n",
    "display_table(\"data/OASIS_test_analysis.tsv\")"
   ]
  },
  {
   "cell_type": "markdown",
   "id": "885b30f3",
   "metadata": {
    "lines_to_next_cell": 0
   },
   "source": [
    "If you are not satisfied with these populations, you can relaunch the test or\n",
    "change the parameters used to evaluate the difference between the distributions:\n",
    "`p_val_threshold` and `t_val_threshold`.\n",
    "\n",
    "<div class=\"alert alert-block alert-info\">\n",
    "<b>Unique test set:</b>\n",
    "    <p>Only one test set was created in (<a\n",
    "    href=\"https://www.sciencedirect.com/science/article/abs/pii/S1361841520300591\">Wen\n",
    "    et al., 2020</a>) to evaluate the final performance of one model. This is\n",
    "    because architecture search was performed on the training + validation sets.\n",
    "    As this operation is very costly and/or is done mostly manually, it was not\n",
    "    possible to do it several times.</p>\n",
    "</div>"
   ]
  },
  {
   "cell_type": "markdown",
   "id": "9a9e1ef6",
   "metadata": {
    "lines_to_next_cell": 0
   },
   "source": [
    "### Build the validation sets\n",
    "\n",
    "To better estimate the performance of the network, it is trained 5 times using a\n",
    "5-fold cross-validation procedure. In this procedure, each sample is used once\n",
    "to validate and the other times to train the network. In the same way as for the\n",
    "single split, the TSV files can be processed with `clinicadl`:\n",
    "\n",
    "```bash\n",
    "clinicadl tsvtool kfold <formatted_data_path>\n",
    "```\n",
    "\n",
    "where `formatted_data_path` is a folder containing one tsv file per label\n",
    "(output of `clinicadl tsvtool getlabels|split|kfold`).\n",
    "\n",
    "In a similar way than for the test split, three tsv files are written per label\n",
    "**per split** for each set:\n",
    "\n",
    "- the baseline sessions of the validation set,\n",
    "- the baseline sessions of the train set,\n",
    "- the longitudinal sessions of the train set.\n",
    "\n",
    "Contrary to the test split, there is no attempt to control the similarity\n",
    "between the age and sex distributions. Indeed here we consider that averaging\n",
    "across the results of the 5 folds already reduces bias compared to a single data\n",
    "split."
   ]
  },
  {
   "cell_type": "code",
   "execution_count": null,
   "id": "2cb97539",
   "metadata": {
    "lines_to_next_cell": 0
   },
   "outputs": [],
   "source": [
    "!clinicadl tsvtool kfold data/labels_lists/train --n_splits 5"
   ]
  },
  {
   "cell_type": "markdown",
   "id": "f9240294",
   "metadata": {
    "lines_to_next_cell": 0
   },
   "source": [
    "### Check the absence of data leakage\n",
    "\n",
    "In OASIS-1 there is no risk of data leakage due to the data split itself as\n",
    "there is only one session per subject. Also there is no MCI patients, hence\n",
    "there is no risk of data leakage during a transfer learning between a source\n",
    "task involving the MCI set and a target task involving at least one of its\n",
    "subsets (sMCI or pMCI). However for other datasets, it might be useful to check\n",
    "that there is no correlated data spread between the train and test sets.\n",
    "\n",
    "A script in `clinicadl` has been created to check that there was no data leakage\n",
    "after the split steps. More specifically it checks that:\n",
    "\n",
    "1. baseline datasets contain only one scan per subject,\n",
    "2. no intersection exists between train and test sets,\n",
    "3. MCI train subjects are absent from test sets of subcategories of MCI.\n",
    "    \n",
    "As it is not a common function, it has not been integrated to the general\n",
    "commandline. The next cell executes it on the splits generated in the previous\n",
    "sections."
   ]
  },
  {
   "cell_type": "code",
   "execution_count": null,
   "id": "b4bbfcbb",
   "metadata": {
    "lines_to_next_cell": 0
   },
   "outputs": [],
   "source": [
    "from clinicadl.tools.tsv.test import run_test_suite\n",
    "\n",
    "# Run check for train+val / test split\n",
    "run_test_suite(\"./data/labels_lists\", n_splits=0, subset_name=\"test\")\n",
    "\n",
    "# Run check for train / validation splits\n",
    "run_test_suite(\"./data/labels_lists/train\", n_splits=5, subset_name=\"validation\")"
   ]
  },
  {
   "cell_type": "markdown",
   "id": "a02c8fea",
   "metadata": {},
   "source": [
    "If no Error was raised then none of the three conditions was broken. It is now\n",
    "possible to use the train and the validation sets to perform a classification\n",
    "task, and then to evaluate correctly the performance of the classifier on the\n",
    "test set.\n",
    "\n",
    "<div class=\"alert alert-block alert-warning\">\n",
    "<b>Data leakage:</b>\n",
    "    <p>Many procedures can cause data leakage and thus bias the performance,\n",
    "    leading to impossible claims. It is crucial to check that the test set has\n",
    "    not been contaminated by data that is correlated to the train and/or\n",
    "    validation sets. You will find below examples of procedures that can lead to\n",
    "    data leakage.</p>\n",
    "    <img src=\"./images/data_leakage.png\">\n",
    "</div>"
   ]
  }
 ],
 "metadata": {
  "jupytext": {
   "encoding": "# -*- coding: utf-8 -*",
   "main_language": "python"
  },
  "kernelspec": {
   "display_name": "Python 3",
   "name": "python3"
  }
 },
 "nbformat": 4,
 "nbformat_minor": 5
}
