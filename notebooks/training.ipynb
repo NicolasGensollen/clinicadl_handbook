{
 "cells": [
  {
   "cell_type": "code",
   "execution_count": null,
   "id": "04b07c4f",
   "metadata": {
    "lines_to_next_cell": 0
   },
   "outputs": [],
   "source": [
    "# Uncomment this cell if running in Google Colab\n",
    "!pip install clinicadl==0.2.1"
   ]
  },
  {
   "cell_type": "markdown",
   "id": "10e16bb7",
   "metadata": {
    "lines_to_next_cell": 0
   },
   "source": [
    "# Train your own model\n",
    "\n",
    "his section explains how to train a CNN on OASIS data that were processed in the previous sections. \n",
    "\n",
    "```{warning}\n",
    "If you do not have access to a GPU, training the CNN may require too much time.\n",
    "However, you can execute this notebook on Colab to run it on a GPU.\n",
    "```\n",
    "\n",
    "If you already know the models implemented in `clinicadl`, you can directly jump\n",
    "to the {ref}`last section <custom_exp>` to implement your own custom experiment!"
   ]
  },
  {
   "cell_type": "code",
   "execution_count": null,
   "id": "ed954110",
   "metadata": {
    "lines_to_next_cell": 0
   },
   "outputs": [],
   "source": [
    "import torch\n",
    "\n",
    "# Check if a GPU is available\n",
    "print('GPU is available', torch.cuda.is_available())"
   ]
  },
  {
   "cell_type": "code",
   "execution_count": null,
   "id": "6749b041",
   "metadata": {
    "lines_to_next_cell": 0,
    "title": "[markwdown]"
   },
   "outputs": [],
   "source": [
    "# <div class=\"alert alert-block alert-warning\">\n",
    "# <b>Data used for training:</b><p>\n",
    "#     Because they are time-costly, the preprocessing steps presented in the beginning of this tutorial were only executed on a subset of OASIS-1, but obviously two participants are insufficient to train a network! To obtain more meaningful results, you should retrieve the whole <a href=\"https://www.oasis-brains.org/\">OASIS-1</a> dataset and run the training based on the labels and splits performed in the previous section.</p>\n",
    "#     <p>Of course, you can use another dataset, but then you will have to perform again <a href=\"./label_extraction.ipynb\">the extraction of labels and data splits</a> on this dataset.</p>\n",
    "# </div>"
   ]
  },
  {
   "cell_type": "markdown",
   "id": "70ec4dab",
   "metadata": {
    "lines_to_next_cell": 0
   },
   "source": [
    "## Using `clinicadl train`\n",
    "\n",
    "Training a neural network requires a lot of inputs from the user. For\n",
    "clinicadl the main inputs are:\n",
    "* The kind of task to train (*classification*, *reconstruction* and\n",
    "  *regression*).\n",
    "* The folder containing the input images in CAPS format.\n",
    "* A file containing information on the preprocessing  `PREPROCESSING_JSON`.\n",
    "* A folder wiht files in TSV format to define where the train and validation are stored.\n",
    "* A folder to the path where the MAPS will be stored.\n",
    "\n",
    "Multiple options can be entered by using the option `-c, --config_file`, a\n",
    "file in format TOML, a human-readable format.\n",
    "\n",
    "The help for the `clinicadl train` functionality:\n"
   ]
  },
  {
   "cell_type": "code",
   "execution_count": null,
   "id": "fac9f48c",
   "metadata": {},
   "outputs": [],
   "source": [
    "! clinicadl train -h"
   ]
  },
  {
   "cell_type": "code",
   "execution_count": null,
   "id": "08de2947",
   "metadata": {
    "lines_to_next_cell": 0
   },
   "outputs": [],
   "source": [
    "# Download the data\n",
    "! wget --no-check-certificate --progress=bar:force -O ../data/RandomCaps.tar.gz https://aramislab.paris.inria.fr/files/data/databases/tuto2/RandomCaps.tar.gz\n",
    "! tar xf ../data/RandomCaps.tar.gz -C ../data/"
   ]
  },
  {
   "cell_type": "markdown",
   "id": "30090f33",
   "metadata": {
    "lines_to_next_cell": 0
   },
   "source": [
    "## Example 1: training using the whole image\n",
    "Lets suposse that we want to train a network of preprocessed images using\n",
    "slices.\n",
    "Our images comes from a synthetic dataset containing images with random noise,\n",
    "obtained with `clinicadl generate`. "
   ]
  },
  {
   "cell_type": "markdown",
   "id": "95819693",
   "metadata": {
    "lines_to_next_cell": 0
   },
   "source": [
    "The configuration file `train_cnofig.toml`\n",
    "```[toml]\n",
    "# Config file for tutotiel\n",
    "[Cross_validation]\n",
    "n_splits = 2\n",
    "split = []\n",
    "\n",
    "[Classification]\n",
    "label = \"sex\"\n",
    "\n",
    "[Optimization]\n",
    "epochs = 1\n",
    "\n",
    "[Data]\n",
    "multi_cohort = false\n",
    "diagnoses = [\"CN\"]\n",
    "```\n",
    "Mani other variables can be configured, [see the\n",
    "documentation](https://clinicadl.readthedocs.io/en/stable/Train/Introduction/)."
   ]
  },
  {
   "cell_type": "code",
   "execution_count": null,
   "id": "cf8b8f59",
   "metadata": {
    "lines_to_next_cell": 2
   },
   "outputs": [],
   "source": [
    "! clinicadl train classification ../data/caps_v2021 extract_image_t1_linear.json ../data/labels_list/train ../data/out -c ../data/train_config.toml "
   ]
  },
  {
   "cell_type": "markdown",
   "id": "13be84e8",
   "metadata": {
    "lines_to_next_cell": 0
   },
   "source": [
    "## Example 2: training using only slices of the image"
   ]
  },
  {
   "cell_type": "code",
   "execution_count": null,
   "id": "c3a2db03",
   "metadata": {
    "lines_to_next_cell": 0
   },
   "outputs": [],
   "source": [
    "! clinicadl train classification ../data/random_example extract_slice.json ../data/labels_list/train ../data/out -c ../data/train_config.toml "
   ]
  },
  {
   "cell_type": "markdown",
   "id": "9c1ce6e2",
   "metadata": {
    "lines_to_next_cell": 0
   },
   "source": [
    "## Visualization of the `MAPS`:"
   ]
  },
  {
   "cell_type": "code",
   "execution_count": null,
   "id": "e9c10d4f",
   "metadata": {},
   "outputs": [],
   "source": [
    "! tree -L 4 ../data/out"
   ]
  },
  {
   "cell_type": "code",
   "execution_count": null,
   "id": "e9e72465",
   "metadata": {},
   "outputs": [],
   "source": []
  }
 ],
 "metadata": {
  "jupytext": {
   "encoding": "# -*- coding: utf-8 -*-",
   "main_language": "python"
  },
  "kernelspec": {
   "display_name": "Python 3",
   "name": "python3"
  }
 },
 "nbformat": 4,
 "nbformat_minor": 5
}
