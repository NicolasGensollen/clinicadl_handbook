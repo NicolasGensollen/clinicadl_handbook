{
 "cells": [
  {
   "cell_type": "code",
   "execution_count": null,
   "id": "9fd0a81b",
   "metadata": {},
   "outputs": [],
   "source": [
    "\n",
    "# ---\n",
    "# jupyter:\n",
    "#   jupytext:\n",
    "#     text_representation:\n",
    "#       extension: .py\n",
    "#       format_name: percent\n",
    "#       format_version: '1.5'\n",
    "#       jupytext_version: 1.7.1\n",
    "#   kernelspec:\n",
    "#     display_name: Python 3\n",
    "#     name: python3\n",
    "# ---"
   ]
  },
  {
   "cell_type": "markdown",
   "id": "d836e143",
   "metadata": {},
   "source": [
    "## How to use `tsvtools`"
   ]
  }
 ],
 "metadata": {
  "jupytext": {
   "cell_metadata_filter": "-all",
   "main_language": "python",
   "notebook_metadata_filter": "-all"
  }
 },
 "nbformat": 4,
 "nbformat_minor": 5
}
