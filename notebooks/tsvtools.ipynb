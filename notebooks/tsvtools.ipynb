{
 "cells": [
  {
   "cell_type": "markdown",
   "id": "d836e143",
   "metadata": {},
   "source": [
    "# How to use `tsvtools`"
   ]
  },
  {
   "cell_type": "markdown",
   "id": "845b8dec",
   "metadata": {},
   "source": [
    "In this tutorial, we rely on the wonderful ADNI data set, as every preprocessing step needed by ClinicaDL was already performed. The goal will be to try to differentiate men from women on the cognitively normal population from t1w-MRI, and then infer the results on other \n",
    "\n",
    "BIDS data can be found at: `/network/lustre/dtlake01/aramis/datasets/adni/bids/BIDS`\n",
    "\n",
    "Corresponding CAPS is at: `/network/lustre/dtlake01/aramis/datasets/adni/caps/caps_v2021`"
   ]
  },
  {
   "cell_type": "markdown",
   "id": "dc65bb68",
   "metadata": {},
   "source": [
    "## Find diagnosis labels\n",
    "\n",
    "First, we will use the `getlabels` function of ClinicaDL to identify which participants are cognitively normal or demented.\n",
    "For this we need clinical information stored in the BIDS, and already preprocessed by Clinica:\n",
    "- summary TSV file merging all information of the BIDS (`clinica iotools merge-tsv`)\n",
    "- missing imaging modalities (`clinica iotools check-missing-modalities`)\n",
    "\n",
    "Fortunately these two steps were already completed on ADNI, then we can directly apply `clinicadl tsvtool getlabels`.\n",
    "\n",
    "```{note}\n",
    "If you have other labels, you can skip this step and directly go to the next one!\n",
    "```"
   ]
  },
  {
   "cell_type": "code",
   "execution_count": 7,
   "id": "35e09ea6",
   "metadata": {},
   "outputs": [
    {
     "name": "stdout",
     "output_type": "stream",
     "text": [
      "/Users/elina.thibeausutre/miniconda3/envs/clinicadl_fork/lib/python3.7/site-packages/click/core.py:1404: DtypeWarning: Columns (118,119,310) have mixed types.Specify dtype option on import or set low_memory=False.\r\n",
      "  return ctx.invoke(self.callback, **ctx.params)\r\n"
     ]
    }
   ],
   "source": [
    "!clinicadl tsvtool getlabels \\\n",
    "    \"/Volumes/dtlake01.aramis/datasets/adni/bids/ADNI_BIDS_clean.tsv\" \\\n",
    "    \"/Volumes/dtlake01.aramis/datasets/adni/bids/missing_mods\" \\\n",
    "    \"../data/labels_list/\""
   ]
  },
  {
   "cell_type": "markdown",
   "id": "ab2ff3f1",
   "metadata": {},
   "source": [
    "One TSV file will be created for each diagnosis label: CN (cognitively normal) and AD (Alzheimer's disease). You can find the options used to create these files in the JSON file `getlabels.json`"
   ]
  },
  {
   "cell_type": "code",
   "execution_count": 9,
   "id": "08ce1cd8",
   "metadata": {},
   "outputs": [
    {
     "name": "stdout",
     "output_type": "stream",
     "text": [
      "\u001b[01;34m../data/labels_list/\u001b[00m\r\n",
      "├── AD.tsv\r\n",
      "├── CN.tsv\r\n",
      "└── getlabels.json\r\n",
      "\r\n",
      "0 directories, 3 files\r\n"
     ]
    }
   ],
   "source": [
    "!tree ../data/labels_list/"
   ]
  },
  {
   "cell_type": "markdown",
   "id": "e0ff0bee",
   "metadata": {},
   "source": [
    "Then we can analyse our populations with the analysis tool"
   ]
  },
  {
   "cell_type": "code",
   "execution_count": 10,
   "id": "f02e3e4c",
   "metadata": {},
   "outputs": [
    {
     "name": "stdout",
     "output_type": "stream",
     "text": [
      "/Users/elina.thibeausutre/miniconda3/envs/clinicadl_fork/lib/python3.7/site-packages/click/core.py:1404: DtypeWarning: Columns (118,119,310) have mixed types.Specify dtype option on import or set low_memory=False.\n",
      "  return ctx.invoke(self.callback, **ctx.params)\n",
      "/Users/elina.thibeausutre/Documents/code/clinicadl_fork/clinicadl/tsvtools/analysis/analysis.py:183: UserWarning: NaN values were found for age values associated to diagnosis CN\n",
      "  f\"NaN values were found for {key} values associated to diagnosis {diagnosis}\"\n"
     ]
    }
   ],
   "source": [
    "!clinicadl tsvtool analysis \\\n",
    "    \"/Volumes/dtlake01.aramis/datasets/adni/bids/ADNI_BIDS_clean.tsv\" \\\n",
    "    \"../data/labels_list\" \\\n",
    "    \"../data/analysis.tsv\""
   ]
  },
  {
   "cell_type": "code",
   "execution_count": 13,
   "id": "e2383302",
   "metadata": {},
   "outputs": [
    {
     "data": {
      "text/html": [
       "<div>\n",
       "<style scoped>\n",
       "    .dataframe tbody tr th:only-of-type {\n",
       "        vertical-align: middle;\n",
       "    }\n",
       "\n",
       "    .dataframe tbody tr th {\n",
       "        vertical-align: top;\n",
       "    }\n",
       "\n",
       "    .dataframe thead th {\n",
       "        text-align: right;\n",
       "    }\n",
       "</style>\n",
       "<table border=\"1\" class=\"dataframe\">\n",
       "  <thead>\n",
       "    <tr style=\"text-align: right;\">\n",
       "      <th></th>\n",
       "      <th>diagnosis</th>\n",
       "      <th>n_subjects</th>\n",
       "      <th>mean_age</th>\n",
       "      <th>std_age</th>\n",
       "      <th>min_age</th>\n",
       "      <th>max_age</th>\n",
       "      <th>sexF</th>\n",
       "      <th>sexM</th>\n",
       "      <th>mean_MMSE</th>\n",
       "      <th>std_MMSE</th>\n",
       "      <th>min_MMSE</th>\n",
       "      <th>max_MMSE</th>\n",
       "      <th>CDR_0</th>\n",
       "      <th>CDR_0.5</th>\n",
       "      <th>CDR_1</th>\n",
       "      <th>CDR_2</th>\n",
       "      <th>CDR_3</th>\n",
       "      <th>mean_scans</th>\n",
       "      <th>std_scans</th>\n",
       "      <th>n_scans</th>\n",
       "    </tr>\n",
       "  </thead>\n",
       "  <tbody>\n",
       "    <tr>\n",
       "      <th>0</th>\n",
       "      <td>AD</td>\n",
       "      <td>390.0</td>\n",
       "      <td>74.879487</td>\n",
       "      <td>7.796958</td>\n",
       "      <td>55.1</td>\n",
       "      <td>90.9</td>\n",
       "      <td>172.0</td>\n",
       "      <td>218.0</td>\n",
       "      <td>23.133333</td>\n",
       "      <td>2.140613</td>\n",
       "      <td>17.0</td>\n",
       "      <td>29.0</td>\n",
       "      <td>0.0</td>\n",
       "      <td>185.0</td>\n",
       "      <td>202.0</td>\n",
       "      <td>3.0</td>\n",
       "      <td>0.0</td>\n",
       "      <td>3.056410</td>\n",
       "      <td>1.279783</td>\n",
       "      <td>1192.0</td>\n",
       "    </tr>\n",
       "    <tr>\n",
       "      <th>1</th>\n",
       "      <td>CN</td>\n",
       "      <td>595.0</td>\n",
       "      <td>72.530976</td>\n",
       "      <td>6.352996</td>\n",
       "      <td>55.1</td>\n",
       "      <td>90.3</td>\n",
       "      <td>343.0</td>\n",
       "      <td>252.0</td>\n",
       "      <td>29.122689</td>\n",
       "      <td>1.087781</td>\n",
       "      <td>24.0</td>\n",
       "      <td>30.0</td>\n",
       "      <td>594.0</td>\n",
       "      <td>1.0</td>\n",
       "      <td>0.0</td>\n",
       "      <td>0.0</td>\n",
       "      <td>0.0</td>\n",
       "      <td>3.880672</td>\n",
       "      <td>3.075664</td>\n",
       "      <td>2309.0</td>\n",
       "    </tr>\n",
       "  </tbody>\n",
       "</table>\n",
       "</div>"
      ],
      "text/plain": [
       "  diagnosis  n_subjects   mean_age   std_age  min_age  max_age   sexF   sexM  \\\n",
       "0        AD       390.0  74.879487  7.796958     55.1     90.9  172.0  218.0   \n",
       "1        CN       595.0  72.530976  6.352996     55.1     90.3  343.0  252.0   \n",
       "\n",
       "   mean_MMSE  std_MMSE  min_MMSE  max_MMSE  CDR_0  CDR_0.5  CDR_1  CDR_2  \\\n",
       "0  23.133333  2.140613      17.0      29.0    0.0    185.0  202.0    3.0   \n",
       "1  29.122689  1.087781      24.0      30.0  594.0      1.0    0.0    0.0   \n",
       "\n",
       "   CDR_3  mean_scans  std_scans  n_scans  \n",
       "0    0.0    3.056410   1.279783   1192.0  \n",
       "1    0.0    3.880672   3.075664   2309.0  "
      ]
     },
     "metadata": {},
     "output_type": "display_data"
    }
   ],
   "source": [
    "import pandas as pd\n",
    "df = pd.read_csv(\"../data/analysis.tsv\", sep=\"\\t\")\n",
    "display(df)"
   ]
  },
  {
   "cell_type": "markdown",
   "id": "185a4d0d",
   "metadata": {},
   "source": [
    "To display more nicely the output we implemented in this notebook `display_table`:"
   ]
  },
  {
   "cell_type": "code",
   "execution_count": 14,
   "id": "e1a72577",
   "metadata": {},
   "outputs": [],
   "source": [
    "def display_table(table_path):\n",
    "    \"\"\"Custom function to display the clinicadl tsvtool analysis output\"\"\"\n",
    "    import pandas as pd\n",
    "\n",
    "    OASIS_analysis_df = pd.read_csv(table_path, sep='\\t')\n",
    "    OASIS_analysis_df.set_index(\"diagnosis\", drop=True, inplace=True)\n",
    "    columns = [\"n_subjects\", \"n_scans\",\n",
    "               \"mean_age\", \"std_age\", \"min_age\", \"max_age\",\n",
    "               \"sexF\", \"sexM\",\n",
    "               \"mean_MMSE\", \"std_MMSE\", \"min_MMSE\", \"max_MMSE\",\n",
    "               \"CDR_0\", \"CDR_0.5\", \"CDR_1\", \"CDR_2\", \"CDR_3\"]\n",
    "\n",
    "    # Print formatted table\n",
    "    format_columns = [\"subjects\", \"scans\", \"age\", \"sex\", \"MMSE\", \"CDR\"]\n",
    "    format_df = pd.DataFrame(index=OASIS_analysis_df.index, columns=format_columns)\n",
    "    for idx in OASIS_analysis_df.index.values:    \n",
    "        row_str = \"%i; %i; %.1f ± %.1f [%.1f, %.1f]; %iF / %iM; %.1f ± %.1f [%.1f, %.1f]; 0: %i, 0.5: %i, 1: %i, 2:%i, 3:%i\" % tuple([OASIS_analysis_df.loc[idx, col] for col in columns])\n",
    "        row_list = row_str.split(';')\n",
    "        format_df.loc[idx] = row_list\n",
    "\n",
    "    format_df.index.name = None\n",
    "    display(format_df)"
   ]
  },
  {
   "cell_type": "code",
   "execution_count": 18,
   "id": "f839db54",
   "metadata": {},
   "outputs": [
    {
     "data": {
      "text/html": [
       "<div>\n",
       "<style scoped>\n",
       "    .dataframe tbody tr th:only-of-type {\n",
       "        vertical-align: middle;\n",
       "    }\n",
       "\n",
       "    .dataframe tbody tr th {\n",
       "        vertical-align: top;\n",
       "    }\n",
       "\n",
       "    .dataframe thead th {\n",
       "        text-align: right;\n",
       "    }\n",
       "</style>\n",
       "<table border=\"1\" class=\"dataframe\">\n",
       "  <thead>\n",
       "    <tr style=\"text-align: right;\">\n",
       "      <th></th>\n",
       "      <th>subjects</th>\n",
       "      <th>scans</th>\n",
       "      <th>age</th>\n",
       "      <th>sex</th>\n",
       "      <th>MMSE</th>\n",
       "      <th>CDR</th>\n",
       "    </tr>\n",
       "  </thead>\n",
       "  <tbody>\n",
       "    <tr>\n",
       "      <th>AD</th>\n",
       "      <td>390</td>\n",
       "      <td>1192</td>\n",
       "      <td>74.9 ± 7.8 [55.1, 90.9]</td>\n",
       "      <td>172F / 218M</td>\n",
       "      <td>23.1 ± 2.1 [17.0, 29.0]</td>\n",
       "      <td>0: 0, 0.5: 185, 1: 202, 2:3, 3:0</td>\n",
       "    </tr>\n",
       "    <tr>\n",
       "      <th>CN</th>\n",
       "      <td>595</td>\n",
       "      <td>2309</td>\n",
       "      <td>72.5 ± 6.4 [55.1, 90.3]</td>\n",
       "      <td>343F / 252M</td>\n",
       "      <td>29.1 ± 1.1 [24.0, 30.0]</td>\n",
       "      <td>0: 594, 0.5: 1, 1: 0, 2:0, 3:0</td>\n",
       "    </tr>\n",
       "  </tbody>\n",
       "</table>\n",
       "</div>"
      ],
      "text/plain": [
       "   subjects  scans                       age           sex  \\\n",
       "AD      390   1192   74.9 ± 7.8 [55.1, 90.9]   172F / 218M   \n",
       "CN      595   2309   72.5 ± 6.4 [55.1, 90.3]   343F / 252M   \n",
       "\n",
       "                        MMSE                                CDR  \n",
       "AD   23.1 ± 2.1 [17.0, 29.0]   0: 0, 0.5: 185, 1: 202, 2:3, 3:0  \n",
       "CN   29.1 ± 1.1 [24.0, 30.0]     0: 594, 0.5: 1, 1: 0, 2:0, 3:0  "
      ]
     },
     "metadata": {},
     "output_type": "display_data"
    }
   ],
   "source": [
    "display_table(\"../data/analysis.tsv\")"
   ]
  },
  {
   "cell_type": "markdown",
   "id": "a3aebd8a",
   "metadata": {},
   "source": [
    "## Create the test set\n",
    "\n",
    "We put 100 participants in the test set with the split `function` of ClinicaDL.\n",
    "This function ensures that there is no significant difference in the age and sex distributions between the train and test sets.\n",
    "\n",
    "![split](../images/test_split.png)"
   ]
  },
  {
   "cell_type": "code",
   "execution_count": 20,
   "id": "1a01a81f",
   "metadata": {},
   "outputs": [],
   "source": [
    "!clinicadl tsvtool split ../data/labels_list --subset_name test --n_test 100"
   ]
  },
  {
   "cell_type": "code",
   "execution_count": 21,
   "id": "752d1210",
   "metadata": {},
   "outputs": [
    {
     "name": "stdout",
     "output_type": "stream",
     "text": [
      "\u001b[01;34m../data/labels_list\u001b[00m\r\n",
      "├── AD.tsv\r\n",
      "├── CN.tsv\r\n",
      "├── getlabels.json\r\n",
      "├── split.json\r\n",
      "├── \u001b[01;34mtest\u001b[00m\r\n",
      "│   ├── AD.tsv\r\n",
      "│   ├── AD_baseline.tsv\r\n",
      "│   ├── CN.tsv\r\n",
      "│   └── CN_baseline.tsv\r\n",
      "└── \u001b[01;34mtrain\u001b[00m\r\n",
      "    ├── AD.tsv\r\n",
      "    ├── AD_baseline.tsv\r\n",
      "    ├── CN.tsv\r\n",
      "    └── CN_baseline.tsv\r\n",
      "\r\n",
      "2 directories, 12 files\r\n"
     ]
    }
   ],
   "source": [
    "!tree ../data/labels_list"
   ]
  },
  {
   "cell_type": "markdown",
   "id": "73a19ac3",
   "metadata": {},
   "source": [
    "## Create the cross-validation\n",
    "\n",
    "We choose to use a 2-fold validation (to avoid spending too much time on training).\n",
    "We use the sex as stratification variable."
   ]
  },
  {
   "cell_type": "code",
   "execution_count": 26,
   "id": "a2837473",
   "metadata": {},
   "outputs": [
    {
     "name": "stdout",
     "output_type": "stream",
     "text": [
      "Label CN\n",
      "Split 0\n",
      "Split 1\n",
      "Label AD\n",
      "Split 0\n",
      "Split 1\n"
     ]
    }
   ],
   "source": [
    "!clinicadl tsvtool kfold ../data/labels_list/train --n_splits 2 --stratification sex"
   ]
  },
  {
   "cell_type": "code",
   "execution_count": 27,
   "id": "d1d3c954",
   "metadata": {},
   "outputs": [
    {
     "name": "stdout",
     "output_type": "stream",
     "text": [
      "\u001b[01;34m../data/labels_list\u001b[00m\r\n",
      "├── AD.tsv\r\n",
      "├── CN.tsv\r\n",
      "├── getlabels.json\r\n",
      "├── split.json\r\n",
      "├── \u001b[01;34mtest\u001b[00m\r\n",
      "│   ├── AD.tsv\r\n",
      "│   ├── AD_baseline.tsv\r\n",
      "│   ├── CN.tsv\r\n",
      "│   └── CN_baseline.tsv\r\n",
      "└── \u001b[01;34mtrain\u001b[00m\r\n",
      "    ├── AD.tsv\r\n",
      "    ├── AD_baseline.tsv\r\n",
      "    ├── CN.tsv\r\n",
      "    ├── CN_baseline.tsv\r\n",
      "    ├── kfold.json\r\n",
      "    ├── \u001b[01;34mtrain_splits-2\u001b[00m\r\n",
      "    │   ├── \u001b[01;34msplit-0\u001b[00m\r\n",
      "    │   │   ├── AD.tsv\r\n",
      "    │   │   ├── AD_baseline.tsv\r\n",
      "    │   │   ├── CN.tsv\r\n",
      "    │   │   └── CN_baseline.tsv\r\n",
      "    │   └── \u001b[01;34msplit-1\u001b[00m\r\n",
      "    │       ├── AD.tsv\r\n",
      "    │       ├── AD_baseline.tsv\r\n",
      "    │       ├── CN.tsv\r\n",
      "    │       └── CN_baseline.tsv\r\n",
      "    └── \u001b[01;34mvalidation_splits-2\u001b[00m\r\n",
      "        ├── \u001b[01;34msplit-0\u001b[00m\r\n",
      "        │   ├── AD_baseline.tsv\r\n",
      "        │   └── CN_baseline.tsv\r\n",
      "        └── \u001b[01;34msplit-1\u001b[00m\r\n",
      "            ├── AD_baseline.tsv\r\n",
      "            └── CN_baseline.tsv\r\n",
      "\r\n",
      "8 directories, 25 files\r\n"
     ]
    }
   ],
   "source": [
    "!tree ../data/labels_list"
   ]
  }
 ],
 "metadata": {
  "jupytext": {
   "cell_metadata_filter": "-all",
   "main_language": "python",
   "notebook_metadata_filter": "-all"
  },
  "kernelspec": {
   "display_name": "Python 3",
   "language": "python",
   "name": "python3"
  },
  "language_info": {
   "codemirror_mode": {
    "name": "ipython",
    "version": 3
   },
   "file_extension": ".py",
   "mimetype": "text/x-python",
   "name": "python",
   "nbconvert_exporter": "python",
   "pygments_lexer": "ipython3",
   "version": "3.7.11"
  }
 },
 "nbformat": 4,
 "nbformat_minor": 5
}
