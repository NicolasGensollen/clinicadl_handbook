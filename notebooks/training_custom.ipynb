{
 "cells": [
  {
   "cell_type": "markdown",
   "id": "34a1c014",
   "metadata": {
    "lines_to_next_cell": 0
   },
   "source": [
    "# Training for custom task\n",
    "\n",
    "## Customize your experiment!\n",
    "\n",
    "You want to train your custom architecture, with a custom input type or\n",
    "preprocessing on other labels? Please fork and clone the [github\n",
    "repo](https://github.com/aramis-lab/clinicadl]) to add your changes.\n",
    "\n",
    "\n",
    "### Add a custom model  <i class=\"fa fa-hourglass-start \" aria-hidden=\"true\"></i>\n",
    "\n",
    "Write your model class in `clinicadl/tools/deep_learning/models` and import it\n",
    "in `clinicadl/tools/deep_learning/models/__init__.py`.\n",
    "\n",
    "<div class=\"alert alert-block alert-info\">\n",
    "<b>Autoencoder transformation:</b><p>\n",
    "    Your custom model can be transformed in autoencoder in the same way as\n",
    "    predefined models. To make it possible, implement the convolutional part in\n",
    "    <code>features</code> and the fully-connected layer in\n",
    "    <code>classifier</code>. See predefined models as examples.\n",
    "</div>\n",
    "\n",
    "### Add a custom input type <i class=\"fa fa-hourglass-start \" aria-hidden=\"true\"></i> <i class=\"fa fa-hourglass-start \" aria-hidden=\"true\"></i> <i class=\"fa fa-hourglass-start \" aria-hidden=\"true\"></i>\n",
    "\n",
    "Input types that are already provided in `clinicadl` are image, patch, roi and\n",
    "slice. To add a custom input type, please follow the steps detailed below:\n",
    "* Choose a mode name for this input type (for example default ones are image,\n",
    "patch, roi and slice).\n",
    "* Add your dataset class in `clinicadl/tools/deep_learning/data.py` as a child\n",
    "class of the abstract class `MRIDataset`.\n",
    "* Create your dataset in `return_dataset` by adding:\n",
    "\n",
    "```python\n",
    "elif mode==<mode_name>:\n",
    "    return <dataset_class>(\n",
    "        input_dir,\n",
    "        data_df,\n",
    "        preprocessing=preprocessing,\n",
    "        transformations=transformations,\n",
    "        <custom_args>\n",
    "    )\n",
    "```\n",
    "\n",
    "* Add your custom subparser to `train` and complete `train_func` in `clinicadl/cli.py`.\n",
    "\n",
    "### Add a custom preprocessing <i class=\"fa fa-hourglass-start \" aria-hidden=\"true\"></i> <i class=\"fa fa-hourglass-start \" aria-hidden=\"true\"></i>\n",
    "\n",
    "Define the path of your new preprocessing in the `_get_path` method of\n",
    "`MRIDataset` in `clinicadl/tools/deep_learning/data.py`. You will also have to\n",
    "add the name of your preprocessing pipeline in the general command line by\n",
    "modifying the possible choices of the `preprocessing` argument of\n",
    "`train_pos_group` in `cli.py`.\n",
    "\n",
    "### Change the labels <i class=\"fa fa-hourglass-start \" aria-hidden=\"true\"></i>\n",
    "\n",
    "You can launch a classification task with clinicadl using any labels. The\n",
    "input tsv files must include the columns `participant_id`, `session_id` and\n",
    "`diagnosis`. If the column `diagnosis` does not contain the labels described\n",
    "in this tutorial (AD, CN, MCI, sMCI, pMCI), you can add your own label name\n",
    "associated to a class value in the `diagnosis_code` of the class `MRIDataset`\n",
    "in `clinicadl/tools/deep_learning/data.py`."
   ]
  },
  {
   "cell_type": "markdown",
   "id": "71faa2c7",
   "metadata": {},
   "source": [
    "```{admonition} Suggestion!\n",
    ":class: tip\n",
    "Do not hesitate to ask for help on\n",
    "[GitHub](https://github.com/aramis-lab/clinicadl/issues/new) or propose a new pull\n",
    "request!\n",
    "```"
   ]
  }
 ],
 "metadata": {
  "jupytext": {
   "encoding": "# -*- coding: utf-8 -*-",
   "main_language": "python"
  },
  "kernelspec": {
   "display_name": "Python 3",
   "name": "python3"
  }
 },
 "nbformat": 4,
 "nbformat_minor": 5
}
