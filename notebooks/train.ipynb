{
 "cells": [
  {
   "cell_type": "code",
   "execution_count": null,
   "id": "da04130a",
   "metadata": {},
   "outputs": [],
   "source": [
    "\n",
    "# ---\n",
    "# jupyter:\n",
    "#   jupytext:\n",
    "#     text_representation:\n",
    "#       extension: .py\n",
    "#       format_name: percent\n",
    "#       format_version: '1.5'\n",
    "#       jupytext_version: 1.7.1\n",
    "#   kernelspec:\n",
    "#     display_name: Python 3\n",
    "#     name: python3\n",
    "# ---∏"
   ]
  },
  {
   "cell_type": "markdown",
   "id": "c6d337c9",
   "metadata": {
    "lines_to_next_cell": 0
   },
   "source": [
    "## How to use `clinicadl train`\n",
    "\n",
    "ClinicaDL is able to train networks using different kind of inputs (3D images,\n",
    "3D patches or 2D slices).\n",
    "\n",
    "A single network can learnt diiferent task: *classification*, *reconstruction* and *regression*.\n",
    "\n",
    "All information necessary to reproduce the train (network architecture, hyperparameters, weights)\n",
    "is stored in the MAPS."
   ]
  },
  {
   "cell_type": "markdown",
   "id": "509165e1",
   "metadata": {
    "lines_to_next_cell": 0
   },
   "source": [
    "## Using `clinicadl train`\n",
    "\n",
    "Training a neural network requires a lot of inputs from the user. For clinicadl the main inputs are:\n",
    "* The kind of task to train (*classification*, *reconstruction* and\n",
    "  *regression*).\n",
    "* The folder containing the input images in CAPS format.\n",
    "* A file containing information on the preprocessing  `PREPROCESSING_JSON`.\n",
    "* A folder wiht files in TSV format to define where the train and validation are stored.\n",
    "* A folder to the path where the MAPS will be stored.\n",
    "\n",
    "Multiple options can be entered by using the option `-c, --config_file`, a\n",
    "file in format TOML, a human-readable format."
   ]
  },
  {
   "cell_type": "markdown",
   "id": "031dc715",
   "metadata": {},
   "source": [
    "## Train slices\n",
    "Example of the command line for train slices.\n",
    "! clinicadl train -h "
   ]
  },
  {
   "cell_type": "code",
   "execution_count": null,
   "id": "21765722",
   "metadata": {},
   "outputs": [],
   "source": []
  }
 ],
 "metadata": {
  "jupytext": {
   "cell_metadata_filter": "-all",
   "main_language": "python",
   "notebook_metadata_filter": "-all"
  }
 },
 "nbformat": 4,
 "nbformat_minor": 5
}
