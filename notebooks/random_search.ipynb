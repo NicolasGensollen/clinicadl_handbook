{
 "cells": [
  {
   "cell_type": "code",
   "execution_count": null,
   "id": "87fafa01",
   "metadata": {
    "lines_to_next_cell": 0
   },
   "outputs": [],
   "source": [
    "# Uncomment this cell if running in Google Colab\n",
    "!pip install clinicadl==0.2.1\n",
    "!curl -k https://aramislab.paris.inria.fr/files/data/databases/tuto/dataOasis.tar.gz -o dataOasis.tar.gz\n",
    "!tar xf dataOasis.tar.gz"
   ]
  },
  {
   "cell_type": "markdown",
   "id": "c23eba7a",
   "metadata": {},
   "source": [
    "# Launch a random search\n",
    "The previous section focused on a way to debug non-automated architecture\n",
    "search. However, if you have enough computational power, you may want to launch\n",
    "an automated architecture search to save your time. This is the point of the\n",
    "random search method of clinicadl.\n",
    "\n",
    "<div class=\"alert alert-block alert-info\">\n",
    "<b>Non-optimal result:</b><p>\n",
    "    A random search may allow to find a better performing network, however there is no guarantee that this is the best performing network.\n",
    "</div>\n",
    "\n",
    "This notebook relies on the synthetic data generated in the previous notebook.\n",
    "If you did not run it, uncomment the following cell to generate the\n",
    "corresponding dataset."
   ]
  }
 ],
 "metadata": {
  "jupytext": {
   "encoding": "# -*- coding: utf-8 -*-",
   "main_language": "python"
  },
  "kernelspec": {
   "display_name": "Python 3",
   "name": "python3"
  }
 },
 "nbformat": 4,
 "nbformat_minor": 5
}
